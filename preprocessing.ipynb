{
 "cells": [
  {
   "cell_type": "markdown",
   "metadata": {},
   "source": [
    "### Preprocessing Notebook for VoxCeleb1 Data Downloaded from https://mm.kaist.ac.kr/datasets/voxceleb/"
   ]
  },
  {
   "cell_type": "code",
   "execution_count": 1,
   "metadata": {},
   "outputs": [],
   "source": [
    "#imports\n",
    "import pandas as pd\n",
    "import numpy as np\n",
    "from tqdm import tqdm\n",
    "import os\n",
    "import shutil\n",
    "import zipfile\n",
    "import tarfile"
   ]
  },
  {
   "cell_type": "code",
   "execution_count": 82,
   "metadata": {},
   "outputs": [],
   "source": [
    "#paths\n",
    "DATA_PATH = '/usr/xtmp/hs285'\n",
    "AUDIO_PATH = os.path.join(DATA_PATH, 'audio/')\n",
    "VIDEO_PATH = os.path.join(DATA_PATH, 'video/')\n",
    "VIDEO_TXT_PATH = os.path.join(DATA_PATH, 'txt/')\n"
   ]
  },
  {
   "cell_type": "code",
   "execution_count": null,
   "metadata": {},
   "outputs": [],
   "source": [
    "#rename directories (only need to do once)\n",
    "os.rename(os.path.join(DATA_PATH, 'wav'), AUDIO_PATH)\n",
    "os.rename(os.path.join(DATA_PATH, 'unzippedFaces'), VIDEO_PATH)"
   ]
  },
  {
   "cell_type": "code",
   "execution_count": 5,
   "metadata": {},
   "outputs": [
    {
     "name": "stderr",
     "output_type": "stream",
     "text": [
      "100%|██████████| 1251/1251 [00:48<00:00, 25.71it/s]\n"
     ]
    }
   ],
   "source": [
    "#change directory structure to remove redundance 1.6/ directory in video path\n",
    "list_of_dirs = os.listdir(VIDEO_PATH)\n",
    "\n",
    "for folder in tqdm(list_of_dirs):\n",
    "    root = VIDEO_PATH + folder\n",
    "    \n",
    "    for folder2 in os.listdir(root + '/1.6/'):\n",
    "        shutil.move(root + '/1.6/' + folder2, os.path.join(root, folder2))\n",
    "        \n",
    "    os.rmdir(root + '/1.6/')"
   ]
  },
  {
   "cell_type": "code",
   "execution_count": 216,
   "metadata": {},
   "outputs": [
    {
     "data": {
      "text/html": [
       "<div>\n",
       "<style scoped>\n",
       "    .dataframe tbody tr th:only-of-type {\n",
       "        vertical-align: middle;\n",
       "    }\n",
       "\n",
       "    .dataframe tbody tr th {\n",
       "        vertical-align: top;\n",
       "    }\n",
       "\n",
       "    .dataframe thead th {\n",
       "        text-align: right;\n",
       "    }\n",
       "</style>\n",
       "<table border=\"1\" class=\"dataframe\">\n",
       "  <thead>\n",
       "    <tr style=\"text-align: right;\">\n",
       "      <th></th>\n",
       "      <th>VoxCeleb1 ID</th>\n",
       "      <th>VGGFace1 ID</th>\n",
       "      <th>Gender</th>\n",
       "      <th>Nationality</th>\n",
       "      <th>Set</th>\n",
       "    </tr>\n",
       "  </thead>\n",
       "  <tbody>\n",
       "    <tr>\n",
       "      <th>0</th>\n",
       "      <td>id10001</td>\n",
       "      <td>A.J._Buckley</td>\n",
       "      <td>m</td>\n",
       "      <td>Ireland</td>\n",
       "      <td>dev</td>\n",
       "    </tr>\n",
       "    <tr>\n",
       "      <th>1</th>\n",
       "      <td>id10002</td>\n",
       "      <td>A.R._Rahman</td>\n",
       "      <td>m</td>\n",
       "      <td>India</td>\n",
       "      <td>dev</td>\n",
       "    </tr>\n",
       "    <tr>\n",
       "      <th>2</th>\n",
       "      <td>id10003</td>\n",
       "      <td>Aamir_Khan</td>\n",
       "      <td>m</td>\n",
       "      <td>India</td>\n",
       "      <td>dev</td>\n",
       "    </tr>\n",
       "    <tr>\n",
       "      <th>3</th>\n",
       "      <td>id10004</td>\n",
       "      <td>Aaron_Tveit</td>\n",
       "      <td>m</td>\n",
       "      <td>USA</td>\n",
       "      <td>dev</td>\n",
       "    </tr>\n",
       "    <tr>\n",
       "      <th>4</th>\n",
       "      <td>id10005</td>\n",
       "      <td>Aaron_Yoo</td>\n",
       "      <td>m</td>\n",
       "      <td>USA</td>\n",
       "      <td>dev</td>\n",
       "    </tr>\n",
       "  </tbody>\n",
       "</table>\n",
       "</div>"
      ],
      "text/plain": [
       "  VoxCeleb1 ID   VGGFace1 ID Gender Nationality  Set\n",
       "0      id10001  A.J._Buckley      m     Ireland  dev\n",
       "1      id10002   A.R._Rahman      m       India  dev\n",
       "2      id10003    Aamir_Khan      m       India  dev\n",
       "3      id10004   Aaron_Tveit      m         USA  dev\n",
       "4      id10005     Aaron_Yoo      m         USA  dev"
      ]
     },
     "execution_count": 216,
     "metadata": {},
     "output_type": "execute_result"
    }
   ],
   "source": [
    "#load metadata for VoxCeleb1 dataset\n",
    "meta = pd.read_csv(os.path.join(DATA_PATH, 'vox1_meta.csv'), sep='\\t')\n",
    "meta.head()\n"
   ]
  },
  {
   "cell_type": "code",
   "execution_count": 84,
   "metadata": {},
   "outputs": [],
   "source": [
    "#create dictionary mapping celebrity id to name\n",
    "name2id = meta.set_index('VGGFace1 ID')['VoxCeleb1 ID'].to_dict()"
   ]
  },
  {
   "cell_type": "code",
   "execution_count": 10,
   "metadata": {},
   "outputs": [
    {
     "name": "stderr",
     "output_type": "stream",
     "text": [
      "100%|██████████| 1251/1251 [00:00<00:00, 2564.82it/s]\n"
     ]
    }
   ],
   "source": [
    "#rename directories using ids instead of celebrity names\n",
    "list_of_dirs = os.listdir(VIDEO_PATH)\n",
    "\n",
    "for folder in tqdm(list_of_dirs):\n",
    "    root = VIDEO_PATH + folder\n",
    "    prev_name = folder\n",
    "    new_name = name2id[folder]\n",
    "    os.rename(VIDEO_PATH + prev_name, VIDEO_PATH + new_name)"
   ]
  },
  {
   "cell_type": "code",
   "execution_count": 12,
   "metadata": {},
   "outputs": [
    {
     "name": "stderr",
     "output_type": "stream",
     "text": [
      "23032it [03:52, 99.12it/s] \n"
     ]
    }
   ],
   "source": [
    "#restructure file directory so that audio and video file structures match\n",
    "for src_dir, dirs, files in tqdm(os.walk(VIDEO_TXT_PATH)):\n",
    "    dst_dir = src_dir.replace(VIDEO_TXT_PATH, VIDEO_PATH, 1)\n",
    "    if not os.path.exists(dst_dir):\n",
    "        os.makedirs(dst_dir)\n",
    "    for file_ in files:\n",
    "        src_file = os.path.join(src_dir, file_)\n",
    "        dst_file = os.path.join(dst_dir, file_)\n",
    "        if os.path.exists(dst_file):\n",
    "            os.remove(dst_file)\n",
    "        shutil.move(src_file, dst_dir)"
   ]
  },
  {
   "cell_type": "code",
   "execution_count": 4,
   "metadata": {},
   "outputs": [
    {
     "data": {
      "text/html": [
       "<div>\n",
       "<style scoped>\n",
       "    .dataframe tbody tr th:only-of-type {\n",
       "        vertical-align: middle;\n",
       "    }\n",
       "\n",
       "    .dataframe tbody tr th {\n",
       "        vertical-align: top;\n",
       "    }\n",
       "\n",
       "    .dataframe thead th {\n",
       "        text-align: right;\n",
       "    }\n",
       "</style>\n",
       "<table border=\"1\" class=\"dataframe\">\n",
       "  <thead>\n",
       "    <tr style=\"text-align: right;\">\n",
       "      <th></th>\n",
       "      <th>3 id10003/na8-QEFmj44/00003.wav</th>\n",
       "    </tr>\n",
       "  </thead>\n",
       "  <tbody>\n",
       "    <tr>\n",
       "      <td>0</td>\n",
       "      <td>1 id10003/tCq2LcKO6xY/00002.wav</td>\n",
       "    </tr>\n",
       "    <tr>\n",
       "      <td>1</td>\n",
       "      <td>1 id10003/K5zRxtXc27s/00001.wav</td>\n",
       "    </tr>\n",
       "    <tr>\n",
       "      <td>2</td>\n",
       "      <td>1 id10003/bDxy7bnj_bc/00004.wav</td>\n",
       "    </tr>\n",
       "    <tr>\n",
       "      <td>3</td>\n",
       "      <td>1 id10003/E_6MjfYr0sQ/00011.wav</td>\n",
       "    </tr>\n",
       "    <tr>\n",
       "      <td>4</td>\n",
       "      <td>1 id10003/5ablueV_1tw/00010.wav</td>\n",
       "    </tr>\n",
       "    <tr>\n",
       "      <td>...</td>\n",
       "      <td>...</td>\n",
       "    </tr>\n",
       "    <tr>\n",
       "      <td>153510</td>\n",
       "      <td>1 id11251/s4R4hvqrhFw/00002.wav</td>\n",
       "    </tr>\n",
       "    <tr>\n",
       "      <td>153511</td>\n",
       "      <td>1 id11251/gFfcgOVmiO0/00006.wav</td>\n",
       "    </tr>\n",
       "    <tr>\n",
       "      <td>153512</td>\n",
       "      <td>3 id11251/7GtZpUtReJ8/00001.wav</td>\n",
       "    </tr>\n",
       "    <tr>\n",
       "      <td>153513</td>\n",
       "      <td>2 id11251/5-6lI5JQtb8/00001.wav</td>\n",
       "    </tr>\n",
       "    <tr>\n",
       "      <td>153514</td>\n",
       "      <td>3 id11251/7GtZpUtReJ8/00006.wav</td>\n",
       "    </tr>\n",
       "  </tbody>\n",
       "</table>\n",
       "<p>153515 rows × 1 columns</p>\n",
       "</div>"
      ],
      "text/plain": [
       "        3 id10003/na8-QEFmj44/00003.wav\n",
       "0       1 id10003/tCq2LcKO6xY/00002.wav\n",
       "1       1 id10003/K5zRxtXc27s/00001.wav\n",
       "2       1 id10003/bDxy7bnj_bc/00004.wav\n",
       "3       1 id10003/E_6MjfYr0sQ/00011.wav\n",
       "4       1 id10003/5ablueV_1tw/00010.wav\n",
       "...                                 ...\n",
       "153510  1 id11251/s4R4hvqrhFw/00002.wav\n",
       "153511  1 id11251/gFfcgOVmiO0/00006.wav\n",
       "153512  3 id11251/7GtZpUtReJ8/00001.wav\n",
       "153513  2 id11251/5-6lI5JQtb8/00001.wav\n",
       "153514  3 id11251/7GtZpUtReJ8/00006.wav\n",
       "\n",
       "[153515 rows x 1 columns]"
      ]
     },
     "execution_count": 4,
     "metadata": {},
     "output_type": "execute_result"
    }
   ],
   "source": [
    "pd.read_csv(os.path.join(DATA_PATH, 'iden_split.txt'))"
   ]
  },
  {
   "cell_type": "code",
   "execution_count": 205,
   "metadata": {},
   "outputs": [],
   "source": [
    "def find_celebrity_from_id(s):\n",
    "    return list(name2id.keys())[list(name2id.values()).index(s)]"
   ]
  },
  {
   "cell_type": "code",
   "execution_count": 208,
   "metadata": {},
   "outputs": [
    {
     "data": {
      "text/plain": [
       "'Aamir_Khan'"
      ]
     },
     "execution_count": 208,
     "metadata": {},
     "output_type": "execute_result"
    }
   ],
   "source": [
    "find_celebrity_from_id(testset.dataset[0].split('/')[0])"
   ]
  },
  {
   "cell_type": "code",
   "execution_count": 214,
   "metadata": {},
   "outputs": [
    {
     "data": {
      "text/plain": [
       "'Aamir_Khan'"
      ]
     },
     "execution_count": 214,
     "metadata": {},
     "output_type": "execute_result"
    }
   ],
   "source": [
    "find_celebrity_from_id('id10003')"
   ]
  },
  {
   "cell_type": "code",
   "execution_count": 211,
   "metadata": {},
   "outputs": [
    {
     "name": "stdout",
     "output_type": "stream",
     "text": [
      "Robbie_Kay\n",
      "Constance_Zimmer\n",
      "Chris_Lowell\n",
      "Scott_Porter\n",
      "Seth_Rogen\n",
      "5 celebrities most likely to look their voice sounds like Aamir Khan\n",
      "Angela_Kinsey\n",
      "Angela_Kinsey\n",
      "Teri_Hatcher\n",
      "Angela_Kinsey\n",
      "Toby_Stephens\n"
     ]
    }
   ],
   "source": [
    "print('5 celebrities ')\n",
    "for i in range(5):\n",
    "    most_similar_audio = testset.dataset[score_index_a[i]+1].split('/')[0]\n",
    "    print(find_celebrity_from_id(most_similar_audio))\n",
    "print('5 celebrities most likely to look their voice sounds like Aamir Khan')\n",
    "for i in range(5):\n",
    "    most_similar_video = testset.dataset[score_index_v[i]+1].split('/')[0]\n",
    "    print(find_celebrity_from_id(most_similar_video))\n",
    "    \n"
   ]
  },
  {
   "cell_type": "code",
   "execution_count": 1,
   "metadata": {},
   "outputs": [
    {
     "ename": "NameError",
     "evalue": "name 'testset' is not defined",
     "output_type": "error",
     "traceback": [
      "\u001b[0;31m---------------------------------------------------------------------------\u001b[0m",
      "\u001b[0;31mNameError\u001b[0m                                 Traceback (most recent call last)",
      "\u001b[0;32m<ipython-input-1-23deec884052>\u001b[0m in \u001b[0;36m<module>\u001b[0;34m\u001b[0m\n\u001b[0;32m----> 1\u001b[0;31m \u001b[0mtestset\u001b[0m\u001b[0;34m.\u001b[0m\u001b[0mdataset\u001b[0m\u001b[0;34m\u001b[0m\u001b[0;34m\u001b[0m\u001b[0m\n\u001b[0m",
      "\u001b[0;31mNameError\u001b[0m: name 'testset' is not defined"
     ]
    }
   ],
   "source": []
  },
  {
   "cell_type": "code",
   "execution_count": null,
   "metadata": {},
   "outputs": [],
   "source": [
    "plt.imshow(v[0][0].permute(1, 2, 0))"
   ]
  }
 ],
 "metadata": {
  "kernelspec": {
   "display_name": "venv",
   "language": "python",
   "name": "venv"
  },
  "language_info": {
   "codemirror_mode": {
    "name": "ipython",
    "version": 3
   },
   "file_extension": ".py",
   "mimetype": "text/x-python",
   "name": "python",
   "nbconvert_exporter": "python",
   "pygments_lexer": "ipython3",
   "version": "3.6.9"
  }
 },
 "nbformat": 4,
 "nbformat_minor": 4
}
